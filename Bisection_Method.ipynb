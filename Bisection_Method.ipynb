{
  "nbformat": 4,
  "nbformat_minor": 0,
  "metadata": {
    "colab": {
      "name": "Bisection Method.ipynb",
      "provenance": [],
      "collapsed_sections": []
    },
    "kernelspec": {
      "name": "python3",
      "display_name": "Python 3"
    }
  },
  "cells": [
    {
      "cell_type": "code",
      "metadata": {
        "id": "0KuCvxHINECr",
        "colab_type": "code",
        "colab": {
          "base_uri": "https://localhost:8080/",
          "height": 617
        },
        "outputId": "788cc1a1-76d3-44d0-b905-4f711a68c69b"
      },
      "source": [
        "import math\n",
        "import numpy as np\n",
        "import matplotlib.pyplot as plt\n",
        "def func(x):\n",
        "    return (2*(math.sin(x)))- x\n",
        "\n",
        "\n",
        "def bisection(a, b):\n",
        "    \n",
        "    print()\n",
        "    print(\"------------------------------------------------------\")\n",
        "    print(end='  ')\n",
        "    print(\"a\",end='      ')\n",
        "    print(\"f(a)\", end='      ')\n",
        "    print(\"b\", end='      ')\n",
        "    print(\"f(b)\", end='     ')\n",
        "    print(\"c\", end='      ')\n",
        "    print(\"f(c)\")\n",
        "    print(\"------------------------------------------------------\")\n",
        "\n",
        "    if (func(a) * func(b) >= 0):\n",
        "        print(\"You have not assumed right a and b\\n\")\n",
        "        return\n",
        "\n",
        "    c = a\n",
        "    while ((b - a) >= 0.01):\n",
        "\n",
        "        # Find middle point\n",
        "        c = (a + b) / 2\n",
        "\n",
        "        # Check if middle point is root\n",
        "        if (func(c) == 0.0):\n",
        "            break\n",
        "\n",
        "        # Decide the side to repeat the steps\n",
        "        if (func(c) * func(a) < 0):\n",
        "            b = c\n",
        "        else:\n",
        "            a = c\n",
        "\n",
        "        print(\"%.3f\" %a,\"|\" ,\"%.3f\" %func(a),\"|\" ,\"%.3f\" % b,\"|\" ,\"%.3f\" % func(b),\"|\" ,\"%.3f\" %c,\"|\" , \"%.3f\" %func(c))\n",
        "        print()\n",
        "\n",
        "    print(\"------------------------------------------------------\")\n",
        "\n",
        "    print(\"The value of root is : \", \"%.3f\" % c)\n",
        "    a=np.linspace(-2,4,100)\n",
        "    f2 = np.vectorize(func)\n",
        "    plt.plot(a,f2(a))\n",
        "    plt.plot(c,f2(c),\"d\")\n",
        "\n",
        "    plt.grid()\n",
        "    plt.show()\n",
        "\n",
        "\n",
        "a = 1\n",
        "b = 2\n",
        "bisection(a, b)"
      ],
      "execution_count": 7,
      "outputs": [
        {
          "output_type": "stream",
          "text": [
            "\n",
            "------------------------------------------------------\n",
            "  a      f(a)      b      f(b)     c      f(c)\n",
            "------------------------------------------------------\n",
            "1.500 | 0.495 | 2.000 | -0.181 | 1.500 | 0.495\n",
            "\n",
            "1.750 | 0.218 | 2.000 | -0.181 | 1.750 | 0.218\n",
            "\n",
            "1.875 | 0.033 | 2.000 | -0.181 | 1.875 | 0.033\n",
            "\n",
            "1.875 | 0.033 | 1.938 | -0.070 | 1.938 | -0.070\n",
            "\n",
            "1.875 | 0.033 | 1.906 | -0.018 | 1.906 | -0.018\n",
            "\n",
            "1.891 | 0.008 | 1.906 | -0.018 | 1.891 | 0.008\n",
            "\n",
            "1.891 | 0.008 | 1.898 | -0.005 | 1.898 | -0.005\n",
            "\n",
            "------------------------------------------------------\n",
            "The value of root is :  1.898\n"
          ],
          "name": "stdout"
        },
        {
          "output_type": "display_data",
          "data": {
            "image/png": "[encoded data removed]",
            "text/plain": [
              "<Figure size 432x288 with 1 Axes>"
            ]
          },
          "metadata": {
            "tags": [],
            "needs_background": "light"
          }
        }
      ]
    }
  ]
}