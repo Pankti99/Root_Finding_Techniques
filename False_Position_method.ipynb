{
  "nbformat": 4,
  "nbformat_minor": 0,
  "metadata": {
    "colab": {
      "name": "False_Position method.ipynb",
      "provenance": [],
      "collapsed_sections": []
    },
    "kernelspec": {
      "name": "python3",
      "display_name": "Python 3"
    }
  },
  "cells": [
    {
      "cell_type": "code",
      "metadata": {
        "id": "rOiKnEDoZTqT",
        "colab_type": "code",
        "colab": {
          "base_uri": "https://localhost:8080/",
          "height": 722
        },
        "outputId": "8708ae0d-4d79-455d-d9dd-fa842b9bd077"
      },
      "source": [
        "import math\n",
        "import numpy as np\n",
        "import matplotlib.pyplot as plt\n",
        "def func(x):\n",
        "    return x ** 4 - x ** 3 - x ** 2 - 6 * x - 4\n",
        "\n",
        "\n",
        "def false_position(a, b):\n",
        "\n",
        "    d=(0.5 * 10 ** -4)\n",
        "    z = 0\n",
        "\n",
        "    if func(a) * func(b) >= 0:\n",
        "        print(\"The initialization values are not correct\")\n",
        "        return -1\n",
        "\n",
        "    print()\n",
        "    print(\"------------------------------------------------------\")\n",
        "    print(end='  ')\n",
        "    print(\" a   |\", end=' ')\n",
        "    print(\" f(a)  |\", end='   ')\n",
        "    print(\"b    |\", end='  ')\n",
        "    print(\"f(b)   |\", end='  ')\n",
        "    print(\"  c   | \", end='   ')\n",
        "    print(\"f(c) \")\n",
        "    print(\"------------------------------------------------------\")\n",
        "\n",
        "    c = a\n",
        "\n",
        "    while ((c - z) < d):\n",
        "\n",
        "        c1 = (a * func(b) - b * func(a)) / (func(b) - func(a))\n",
        "        c=round(c1,6)\n",
        "\n",
        "        if(z==c):\n",
        "            break\n",
        "        if (func(c) == 0.0):\n",
        "            print(func(c))\n",
        "            break\n",
        "\n",
        "        elif func(c) * func(a) < 0:\n",
        "            b = c\n",
        "        else:\n",
        "            a = c\n",
        "        z = c\n",
        "        print(\"%.4f\" % a, \"|\", \"%.4f\" % func(a), \"|\", \"%.4f\" % b, \"|\", \"%.4f\" % func(b), \"|\", \"%.4f\" % c, \"|\",\n",
        "              \"%.4f\" % func(c))\n",
        "        print()\n",
        "\n",
        "    print(\"------------------------------------------------------\")\n",
        "    print(\"Value of root: \", \"%.4f\" % c)\n",
        "    x=np.linspace(-1,2,1000)\n",
        "    plt.plot(x,func(x))\n",
        "    plt.plot(c,func(c),\"d\")\n",
        "    plt.grid()\n",
        "    plt.show()\n",
        "\n",
        "\n",
        "a = -1\n",
        "b = 2\n",
        "\n",
        "false_position(a, b)"
      ],
      "execution_count": 5,
      "outputs": [
        {
          "output_type": "stream",
          "text": [
            "\n",
            "------------------------------------------------------\n",
            "   a   |  f(a)  |   b    |  f(b)   |    c   |    f(c) \n",
            "------------------------------------------------------\n",
            "-1.0000 | 3.0000 | -0.4000 | -1.6704 | -0.4000 | -1.6704\n",
            "\n",
            "-1.0000 | 3.0000 | -0.6146 | -0.3153 | -0.6146 | -0.3153\n",
            "\n",
            "-1.0000 | 3.0000 | -0.6513 | -0.0605 | -0.6513 | -0.0605\n",
            "\n",
            "-1.0000 | 3.0000 | -0.6581 | -0.0116 | -0.6581 | -0.0116\n",
            "\n",
            "-1.0000 | 3.0000 | -0.6595 | -0.0022 | -0.6595 | -0.0022\n",
            "\n",
            "-1.0000 | 3.0000 | -0.6597 | -0.0004 | -0.6597 | -0.0004\n",
            "\n",
            "-1.0000 | 3.0000 | -0.6598 | -0.0001 | -0.6598 | -0.0001\n",
            "\n",
            "-1.0000 | 3.0000 | -0.6598 | -0.0000 | -0.6598 | -0.0000\n",
            "\n",
            "-1.0000 | 3.0000 | -0.6598 | -0.0000 | -0.6598 | -0.0000\n",
            "\n",
            "-0.6598 | 0.0000 | -0.6598 | -0.0000 | -0.6598 | 0.0000\n",
            "\n",
            "------------------------------------------------------\n",
            "Value of root:  -0.6598\n"
          ],
          "name": "stdout"
        },
        {
          "output_type": "display_data",
          "data": {
            "image/png": "[encoded data removed]",
            "text/plain": [
              "<Figure size 432x288 with 1 Axes>"
            ]
          },
          "metadata": {
            "tags": [],
            "needs_background": "light"
          }
        }
      ]
    }
  ]
}