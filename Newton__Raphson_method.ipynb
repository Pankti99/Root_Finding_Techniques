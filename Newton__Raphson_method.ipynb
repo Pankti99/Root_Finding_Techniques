{
  "nbformat": 4,
  "nbformat_minor": 0,
  "metadata": {
    "colab": {
      "name": "Newton _Raphson method.ipynb",
      "provenance": [],
      "collapsed_sections": []
    },
    "kernelspec": {
      "name": "python3",
      "display_name": "Python 3"
    }
  },
  "cells": [
    {
      "cell_type": "code",
      "metadata": {
        "id": "9qeqJ9jTZM3V",
        "colab_type": "code",
        "colab": {
          "base_uri": "https://localhost:8080/",
          "height": 546
        },
        "outputId": "0468599c-af7c-4dca-9e35-8e81744994dd"
      },
      "source": [
        "import math\n",
        "import numpy as np\n",
        "import matplotlib.pyplot as plt\n",
        "def func(x):\n",
        "    return (math.exp(x) - 3 * x - math.sin(x))\n",
        "\n",
        "def derivFunc(x):\n",
        "    return (math.exp(x) - 3 -math.cos(x))\n",
        "\n",
        "def newtonRaphson(x):\n",
        "    cnt = 0\n",
        "    z = 0\n",
        "\n",
        "    print(\"----------------------------------------------------------------------------------------------------------\")\n",
        "    print(\"N   \", \"\\t Xn \", \"\\t  f(Xn)  \", \"\\t  f'(Xn)    \", \"\\t f(Xn)/f'(Xn)\\t\", \"\\tXn-f(Xn)/f'(Xn)\")\n",
        "    print(\"----------------------------------------------------------------------------------------------------------\")\n",
        "    print()\n",
        "    h = func(x) / derivFunc(x)\n",
        "\n",
        "    while abs(h) >= 0.0001:\n",
        "        if cnt == 0:\n",
        "            h = func(x) / derivFunc(x)\n",
        "            x = x - h\n",
        "            print(cnt, \"\\t|\", \"%.6f\" % x0, \"\\t|\", \"%.6f\" % func(x), \"\\t|\", \"%.6f\" % derivFunc(x), \"\\t|\", \"%.6f\" % h,\n",
        "                  \"\\t|\", \"%.6f\" % x)\n",
        "            print()\n",
        "        z = x\n",
        "        cnt = cnt + 1\n",
        "        h = func(x) / derivFunc(x)\n",
        "        x = z - h\n",
        "        if (cnt != 0):\n",
        "            print(cnt, \"\\t|\", \"%.6f\" % z, \"\\t|\", \"%.6f\" % func(x), \"\\t|\", \"%.6f\" % derivFunc(x), \"\\t|\", \"%.6f\" % h,\n",
        "                  \"\\t|\", \"%.6f\" % x)\n",
        "            print()\n",
        "\n",
        "    print(\"-----------------------------------------------------------------------------------------------------\")\n",
        "    print()\n",
        "    print(\"-----------------------------------------------------------------------------------------------------\")\n",
        "    print(\"The value of the root is : \", \"%.4f\" % x)\n",
        "    a=np.linspace(-2,7,1000)\n",
        "    f2 = np.vectorize(func)\n",
        "    \n",
        "    plt.plot(a,f2(a))\n",
        "    plt.plot(x,f2(x),\"d\")\n",
        "    plt.grid()\n",
        "    plt.show()\n",
        "\n",
        "\n",
        "\n",
        "x0 = 0\n",
        "newtonRaphson(x0)"
      ],
      "execution_count": 7,
      "outputs": [
        {
          "output_type": "stream",
          "text": [
            "----------------------------------------------------------------------------------------------------------\n",
            "N    \t Xn  \t  f(Xn)   \t  f'(Xn)     \t f(Xn)/f'(Xn)\t \tXn-f(Xn)/f'(Xn)\n",
            "----------------------------------------------------------------------------------------------------------\n",
            "\n",
            "0 \t| 0.000000 \t| 0.068418 \t| -2.549345 \t| -0.333333 \t| 0.333333\n",
            "\n",
            "1 \t| 0.333333 \t| 0.000628 \t| -2.502263 \t| -0.026837 \t| 0.360171\n",
            "\n",
            "2 \t| 0.360171 \t| 0.000000 \t| -2.501814 \t| -0.000251 \t| 0.360422\n",
            "\n",
            "3 \t| 0.360422 \t| 0.000000 \t| -2.501814 \t| -0.000000 \t| 0.360422\n",
            "\n",
            "-----------------------------------------------------------------------------------------------------\n",
            "\n",
            "-----------------------------------------------------------------------------------------------------\n",
            "The value of the root is :  0.3604\n"
          ],
          "name": "stdout"
        },
        {
          "output_type": "display_data",
          "data": {
            "image/png": "[encoded data removed]",
            "text/plain": [
              "<Figure size 432x288 with 1 Axes>"
            ]
          },
          "metadata": {
            "tags": [],
            "needs_background": "light"
          }
        }
      ]
    }
  ]
}